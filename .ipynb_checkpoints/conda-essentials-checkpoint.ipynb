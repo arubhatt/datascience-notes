{
 "cells": [
  {
   "cell_type": "markdown",
   "metadata": {},
   "source": [
    "## Conda basics "
   ]
  },
  {
   "cell_type": "markdown",
   "metadata": {},
   "source": [
    "```sh\n",
    "conda install\n",
    "\n",
    "conda search\n",
    "\n",
    "conda <command>  —help\n",
    "\n",
    "conda info\n",
    "\n",
    "conda remove\n",
    "\n",
    "conda search -c conda-forge -c sseefeld -c gbrener --platform osx-64 textadapter\n",
    "\n",
    "conda install --channel my-organization the-package\n",
    "\n",
    "conda activate\n",
    "\n",
    "conda deactivate\n",
    "\n",
    "conda remove\n",
    "```"
   ]
  },
  {
   "cell_type": "markdown",
   "metadata": {},
   "source": [
    "## Commands"
   ]
  },
  {
   "cell_type": "markdown",
   "metadata": {},
   "source": [
    "```shell\n",
    "(base) $ conda env list\n",
    "```"
   ]
  },
  {
   "cell_type": "raw",
   "metadata": {},
   "source": [
    "\n",
    "# conda environments:\n",
    "#\n",
    "course-env               /.conda/envs/course-env\n",
    "pd-2015                  /.conda/envs/pd-2015\n",
    "py1.0                    /.conda/envs/py1.0\n",
    "test-env                 /.conda/envs/test-env\n",
    "base                  *  /home/repl/miniconda\n",
    "deprecated               /home/repl/miniconda/envs/deprecated"
   ]
  },
  {
   "cell_type": "markdown",
   "metadata": {},
   "source": [
    "```shell\n",
    "conda env remove --name deprecated\n",
    "\n",
    "conda create —name hello pip=1.2.1 \n",
    "\n",
    "conda env export -n course-env --file course-env.yml\n",
    "\n",
    "conda env list\n",
    "```"
   ]
  }
 ],
 "metadata": {
  "kernelspec": {
   "display_name": "Python 3",
   "language": "python",
   "name": "python3"
  },
  "language_info": {
   "codemirror_mode": {
    "name": "ipython",
    "version": 3
   },
   "file_extension": ".py",
   "mimetype": "text/x-python",
   "name": "python",
   "nbconvert_exporter": "python",
   "pygments_lexer": "ipython3",
   "version": "3.7.1"
  }
 },
 "nbformat": 4,
 "nbformat_minor": 2
}
